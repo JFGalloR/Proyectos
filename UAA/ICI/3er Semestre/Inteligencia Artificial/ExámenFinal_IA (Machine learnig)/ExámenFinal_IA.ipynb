{
 "cells": [
  {
   "cell_type": "markdown",
   "id": "b6f62af0-7ba8-43bc-84a3-c2103593cd3b",
   "metadata": {},
   "source": [
    "># Universidad Autónoma de Aguascalientes\n",
    ">## *Ingeniería en Computación Inteligente*\n",
    ">#### Materia:\n",
    ">Inteligencia Artificial\n",
    ">#### Topico: \n",
    ">Exámen Final:\n",
    ">- _Predicción del uso del coreceptor de tropismos de VIH-1._\n",
    ">#### Integrantes del Equipo:\n",
    ">- Juan Francisco Gallo Ramírez\n",
    ">- José Alfredo Díaz Robledo\n",
    ">- Luis Palbo Esparza Terrones\n",
    ">- Luis Manuel Flores Jiménez \n",
    ">#### Maestro: \n",
    ">Dr. Francisco Javier Luna Rosas\n",
    ">#### Fecha: \n",
    ">Noviembre del 2023"
   ]
  },
  {
   "cell_type": "markdown",
   "id": "fb17dec0-2711-4e0b-8797-30439197dc0c",
   "metadata": {},
   "source": [
    "# Exámen Final: _Predicción del uso del coreceptor de tropismos de VIH-1._"
   ]
  },
  {
   "cell_type": "markdown",
   "id": "333ae97c-ff9a-44db-ada5-e639f197dd75",
   "metadata": {},
   "source": [
    "## ▪️ Se importan la librerías correspondientes."
   ]
  },
  {
   "cell_type": "code",
   "execution_count": 1,
   "id": "6010ba23-e555-446b-8319-33c32e2ac8da",
   "metadata": {},
   "outputs": [],
   "source": [
    "import numpy as np\n",
    "import openpyxl\n",
    "import pandas as pd\n",
    "import requests\n",
    "from bs4 import BeautifulSoup\n",
    "from colorama import Back, Fore\n",
    "from selenium import webdriver\n",
    "from selenium.webdriver.common.by import By\n",
    "from sklearn.metrics import confusion_matrix\n",
    "from sklearn.model_selection import train_test_split\n",
    "from sklearn.neural_network import MLPClassifier\n",
    "import time\n",
    "import random"
   ]
  },
  {
   "cell_type": "markdown",
   "id": "1431d47f-ec82-44b4-87db-c4940daff886",
   "metadata": {},
   "source": [
    "## ▪️ Se establecen diccionarios de características."
   ]
  },
  {
   "cell_type": "markdown",
   "id": "87089d51-3314-4669-a655-08a8e81ea196",
   "metadata": {},
   "source": [
    "Se establecen los diccionarios de características de los aminoácidos, los cuales son de utilidad para  la realización del DataSet. En este algoritmo se usan las caracteristicas de masa, área de superficie, volumen, etc."
   ]
  },
  {
   "cell_type": "code",
   "execution_count": 2,
   "id": "c3cabf59-31c8-4f60-bb6a-7c24fba228b4",
   "metadata": {},
   "outputs": [],
   "source": [
    "# Masa:\n",
    "mass = { 'A': 71.09, 'R': 156.19, 'N': 114.11, 'D': 115.09, 'C': 103.15, 'E': 129.12, 'Q': 128.14, 'G': 57.05, \n",
    "         'H': 137.14, 'I': 113.16, 'L': 113.16, 'K': 128.17, 'M': 131.19, 'F': 147.18, 'P':  97.12, 'S': 87.08, \n",
    "         'T': 101.11, 'W': 186.21, 'Y': 163.18, 'V': 99.14 }\n",
    "\n",
    "# Área de la superficie:\n",
    "s_area = { 'A': 0.74 , 'R': 0.64, 'N': 0.63, 'D': 0.62, 'C': 0.91, 'E': 0.62, 'Q': 0.62, 'G': 0.72, \n",
    "           'H': 0.78, 'I': 0.88, 'L': 0.85, 'K': 0.52, 'M': 0.85, 'F': 0.88, 'P':  0.64, 'S': 0.66, \n",
    "           'T': 0.7, 'W': 0.85, 'Y': 0.76, 'V': 0.86 }\n",
    "\n",
    "# Volumen:\n",
    "volume = { 'A': 67, 'R': 148, 'N': 96, 'D': 91, 'C': 86, 'E': 109, 'Q': 114, 'G': 48, 'H': 118, 'I': 124, \n",
    "           'L': 124, 'K': 135, 'M': 124, 'F': 135, 'P': 90, 'S': 73, 'T': 93, 'W': 163, 'Y': 141, 'V': 105 }\n"
   ]
  },
  {
   "cell_type": "markdown",
   "id": "781dca54-33e1-4944-8ab5-bea8f16f30a6",
   "metadata": {},
   "source": [
    "## ▪️ Se crea archivo del DataSet general."
   ]
  },
  {
   "cell_type": "markdown",
   "id": "4b96fb93-43a3-4361-9cd4-bad42c99ad12",
   "metadata": {},
   "source": [
    "Se definen las columnas del DataSet, las cuales son 46 en total. Una vez creado en dataframe se procede a guardarlo con el nombre de \"DataSet.xlxs\"."
   ]
  },
  {
   "cell_type": "code",
   "execution_count": 3,
   "id": "03ee0aba-e11a-4d8f-83f2-d97ef9b645de",
   "metadata": {},
   "outputs": [],
   "source": [
    "# Nombre de las columnas del DataSet.\n",
    "columnas = ['#Ala (A)', '%Ala (A)', '#Arg (R)', '%Arg (R)', '#Asn (N)', '%Asn (N)', '#Asp (D)', '%Asp (D)',\n",
    "            '#Cys (C)', '%Cys (C)', '#Glu (E)', '%Glu (E)', '#Gln (Q)', '%Gln (Q)', '#Gly (G)', '%Gly (G)',\n",
    "            '#His (H)', '%His (H)', '#Ile (I)', '%Ile (I)', '#Leu (L)', '%Leu (L)', '#Lys (K)', '%Lys (K)',\n",
    "            '#Met (M)', '%Met (M)', '#Phe (F)', '%Phe (F)', '#Pro (P)', '%Pro (P)', '#Ser (S)', '%Ser (S)', \n",
    "            '#Thr (T)', '%Thr (T)', '#Trp (W)', '%Trp (W)', '#Tyr (Y)', '%Tyr (Y)', '#Val (V)', '%Val (V)',\n",
    "            '# Aminoacid', 'Volume', 'Mass', 'Surface Area', 'Isoelectric point', 'Net charge at pH 7.4', 'Correceptor']\n",
    "# Se crea el data frame y se guarda.\n",
    "ds = openpyxl.Workbook()\n",
    "sheet = ds.active\n",
    "sheet.append(columnas)\n",
    "ds.save('DataSet.xlsx')"
   ]
  },
  {
   "cell_type": "markdown",
   "id": "ebe11f13-2ad9-4d17-a13d-6fddbbb9886b",
   "metadata": {},
   "source": [
    "## ▪️ Se carga el archivo con los identificadores"
   ]
  },
  {
   "cell_type": "markdown",
   "id": "8eda12e6-11a8-4a50-acb8-b8abfe52aca2",
   "metadata": {},
   "source": [
    "Se carga el archivo con todos los identificadores de tropismos R5, X4 y R5X4 y se imprimen."
   ]
  },
  {
   "cell_type": "code",
   "execution_count": 4,
   "id": "8ce110a5-6a0e-4143-9100-e9775483b91e",
   "metadata": {},
   "outputs": [
    {
     "name": "stdout",
     "output_type": "stream",
     "text": [
      "\u001b[47m >>> Números de acceso para las secuencias <<< \n",
      "\u001b[49m\u001b[39m\n",
      "        R5X4        R5        X4\n",
      "0   AB014795  AF062012  AB014785\n",
      "1   AF062029    L03698  AB014791\n",
      "2   AF062031  AF231045  AB014796\n",
      "3   AF062033  AY669778  AB014810\n",
      "4   AF107771    U08810    U48267\n",
      "..       ...       ...       ...\n",
      "72       NaN  AF355326       NaN\n",
      "73       NaN    U88826       NaN\n",
      "74       NaN    U08368       NaN\n",
      "75       NaN    U27426       NaN\n",
      "76       NaN  AJ006022       NaN\n",
      "\n",
      "[77 rows x 3 columns]\n"
     ]
    }
   ],
   "source": [
    "data = pd.read_excel('NumeroAccesoSecuencias.xlsx')\n",
    "print(Back.WHITE  + \" >>> Números de acceso para las secuencias <<< \\n\" + Back.RESET + Fore.RESET)\n",
    "print(data)"
   ]
  },
  {
   "cell_type": "markdown",
   "id": "03643da5-b7e8-4db7-ac56-2bf23a0c36a8",
   "metadata": {},
   "source": [
    "## ▪️ Se define la función de búsqueda de datos."
   ]
  },
  {
   "cell_type": "markdown",
   "id": "d482035e-9c77-49eb-8c40-546e6d6b5d6a",
   "metadata": {},
   "source": [
    "Esta función es la encargada de relizar el web scraping para la obtención de la cadena de aminoácidos, así como la extracción de más información de dicha cadena. La función retornará la fila para el DataSet."
   ]
  },
  {
   "cell_type": "code",
   "execution_count": 5,
   "id": "9df03d33-36c5-4326-8c9e-406a670603a5",
   "metadata": {},
   "outputs": [],
   "source": [
    "def getIdenData(identificador):\n",
    "    \n",
    "    #=== Se obtiene la cadena de aminoácidos según el identificador ===============\n",
    "    fila = []\n",
    "    com = True\n",
    "    while com:\n",
    "        com = False;\n",
    "        driver = webdriver.Chrome()\n",
    "        # Página para obtención de la cadena de aminoácidos.\n",
    "        driver.get('https://www.ncbi.nlm.nih.gov/nuccore/' + identificador)\n",
    "        time.sleep(3)\n",
    "        html_content = driver.page_source\n",
    "        \n",
    "        soup = BeautifulSoup(html_content, 'html.parser')\n",
    "        spans = soup.find_all('span', class_='ff_line')\n",
    "        origen = \"\"\n",
    "        origen = \"\".join([span.text for span in spans])\n",
    "        origen = origen.replace(' ', '').replace('\\n', '')\n",
    "        if len(origen) == 0:\n",
    "            com = True\n",
    "            driver.close()\n",
    "\n",
    "    # Se extraen las propiedades de la cadena de aminoácidos.\n",
    "    total = len(origen)\n",
    "    cant_amin = { \n",
    "        'A': 0, 'R': 0, 'N': 0, 'D': 0, 'C': 0, 'E': 0, 'Q': 0, 'G': 0, 'H': 0, 'I': 0, \n",
    "        'L': 0, 'K': 0, 'M': 0, 'F': 0, 'P': 0, 'S': 0, 'T': 0, 'W': 0, 'Y': 0, 'V': 0 }\n",
    "    vol = 0.0\n",
    "    mas = 0.0\n",
    "    sur = 0.0\n",
    "    for letra in origen:\n",
    "        # Se suma la cantidad del aminoácido.\n",
    "        cant_amin[letra.upper()] += 1\n",
    "        # Se suma el volumen del aminoácido.\n",
    "        vol += volume[letra.upper()]\n",
    "        # Se suma la masa del aminoácido.\n",
    "        mas += mass[letra.upper()]\n",
    "        # Se suma el área de superficie del aminoácido.\n",
    "        sur += s_area[letra.upper()]\n",
    "\n",
    "    # Se agregan los datos a la fila.\n",
    "    for cant in cant_amin.values():\n",
    "        fila.append(float(cant))\n",
    "        fila.append(float(cant*100/total))\n",
    "    fila.append(total)\n",
    "    fila.append(vol)\n",
    "    fila.append(mas)\n",
    "    fila.append(sur)\n",
    "\n",
    "    #=== Se extraen otras propiedades de la cadena de aminoácidos =================\n",
    "    com = True\n",
    "    while com:\n",
    "        com = False;\n",
    "        driver = webdriver.Chrome()\n",
    "        # Página para obtención de más características.\n",
    "        driver.get('https://www.protpi.ch/Calculator/ProteinTool')\n",
    "        textarea = driver.find_element(By.ID, 'Sequences_0__Sequence')\n",
    "        textarea.send_keys(origen)\n",
    "        boton_enviar = driver.find_element(By.ID, 'submit')\n",
    "        boton_enviar.click()\n",
    "        time.sleep(2)\n",
    "        html_content = driver.page_source\n",
    "        driver.close()\n",
    "\n",
    "        if len(html_content) == 0:\n",
    "            com = True\n",
    "            driver.close()\n",
    "        else:\n",
    "            soup = BeautifulSoup(html_content, 'html.parser')\n",
    "             # Se agregan los datos a la fila.\n",
    "            fila.extend([float(strong.text) \n",
    "                         for strong in soup.select('div#isoelectricPointCollapse div.card-header div.col-sm-6 strong')])\n",
    "    driver.quit()\n",
    "    \n",
    "    # Se retorna la fila con datos.  \n",
    "    return fila"
   ]
  },
  {
   "cell_type": "markdown",
   "id": "a7f8c261-f675-4043-8672-b5bf288b95e8",
   "metadata": {},
   "source": [
    "## ▪️ Web Scraping para indentificadores R5."
   ]
  },
  {
   "cell_type": "markdown",
   "id": "c640a834-c90c-4a84-80b9-9f0d672b4576",
   "metadata": {},
   "source": [
    "Se recorre la columna con los identificadores del tipo R5, y en base a su identificador, se usa la función \"getIdenData()\" para  obtener la fila de información para el DataSet."
   ]
  },
  {
   "cell_type": "code",
   "execution_count": 6,
   "id": "ec9b58d4-06d0-4575-8160-855222ea0656",
   "metadata": {},
   "outputs": [
    {
     "name": "stdout",
     "output_type": "stream",
     "text": [
      "\u001b[47m >>> IDENTIFICADORES COMPLETADOS: <<< \n",
      "\u001b[49m\u001b[39m\n",
      "AF062012 L03698 AF231045 AY669778 U08810 U51296 AF407161 AB253421 U08645 U08647 U08795 AB253429 AY288084 AF307753 AF411964 U08823 AF411965 U92051 AF355318 AY010759 AY010804 AY010852 U08670 U08798 AY669715 U08710 U16217 M26727 AJ418532 AJ418479 AJ418495 AJ418514 AJ418521 U23487 U04900 AF022258 AF258957 AF021477 ﻿U08716 U39259 AF204137 M38429 U27443 U79719 U04909 U04918 U04908 U08450 AF112542 M63929 U66221 AF491737 U08779 L22084 U27413 AF005495 U52953 AF321523 L22940 U45485 AB023804 U08453 AF307755 AF307750 AY043176 AY158534 AX455917 AY043173 AF307757 U08803 U88824 U69657 AF355326 U88826 U08368 U27426 AJ006022 \u001b[32m\n",
      "\n",
      "+++ PROCESO COMPLETADO +++\u001b[39m\n"
     ]
    }
   ],
   "source": [
    "print(Back.WHITE  + \" >>> IDENTIFICADORES COMPLETADOS: <<< \\n\" + Back.RESET + Fore.RESET)\n",
    "\n",
    "# Se recorren todos los identificadores \"R5\".\n",
    "for iden in data['R5'].dropna():\n",
    "    \n",
    "    # Se obtienen los datos del identificador y se agregan al data frame.\n",
    "    fila = getIdenData(iden)\n",
    "    fila.append('R5')\n",
    "    sheet.append(fila)\n",
    "    print(iden, end = \" \")\n",
    "    \n",
    "# Se guarda el data frame en el archivo excel.\n",
    "ds.save('DataSet.xlsx') \n",
    "print(Fore.GREEN  + \"\\n\\n+++ PROCESO COMPLETADO +++\" + Fore.RESET)"
   ]
  },
  {
   "cell_type": "markdown",
   "id": "2fd72f9c-6021-44f1-bfe0-24aba55e7428",
   "metadata": {},
   "source": [
    "## ▪️ Web Scraping para indentificadores X4."
   ]
  },
  {
   "cell_type": "markdown",
   "id": "69bda97d-2819-4795-9ac2-074f45d72a10",
   "metadata": {},
   "source": [
    "Se recorre la columna con los identificadores del tipo X4, y en base a su identificador, se usa la función \"getIdenData()\" para  obtener la fila de información para el DataSet."
   ]
  },
  {
   "cell_type": "code",
   "execution_count": 7,
   "id": "a3e8037b-79e0-42af-a4ca-98635a283b56",
   "metadata": {},
   "outputs": [
    {
     "name": "stdout",
     "output_type": "stream",
     "text": [
      "\u001b[47m >>> IDENTIFICADORES COMPLETADOS: <<< \n",
      "\u001b[49m\u001b[39m\n",
      "AB014785 AB014791 AB014796 AB014810 U48267 U08666 AF069672 AF355319 AF355336 M14100 A04321 X01762 L31963 U08447 AF355660 AF355748 AF355742 AF355706 AF180915 AF180903 AF035534 AF259050 AF258981 AF259003 AF021618 AF128989 M17449 AF075720 U48207 U72495 AY189526 AF034375 AF034376 U27408 AF411966 U27399 U08822 U08738 U08740 U08193 AF355330 \u001b[32m\n",
      "\n",
      "+++ PROCESO COMPLETADO +++\u001b[39m\n"
     ]
    }
   ],
   "source": [
    "print(Back.WHITE  + \" >>> IDENTIFICADORES COMPLETADOS: <<< \\n\" + Back.RESET + Fore.RESET)\n",
    "\n",
    "# Se recorren todos los identificadores \"X4\".\n",
    "for iden in data['X4'].dropna():\n",
    "    \n",
    "    # Se obtienen los datos del identificador y se agregan al data frame.\n",
    "    fila = getIdenData(iden)\n",
    "    fila.append('X4')\n",
    "    sheet.append(fila)\n",
    "    print(iden, end = \" \")\n",
    "    \n",
    "# Se guarda el data frame en el archivo excel.\n",
    "ds.save('DataSet.xlsx') \n",
    "print(Fore.GREEN  + \"\\n\\n+++ PROCESO COMPLETADO +++\" + Fore.RESET)"
   ]
  },
  {
   "cell_type": "markdown",
   "id": "75731ba7-67cb-4420-bb48-8c9809dbd1e2",
   "metadata": {},
   "source": [
    "## ▪️ Obtención de las columnas óptimas."
   ]
  },
  {
   "cell_type": "markdown",
   "id": "a01b83ee-54e2-4429-b779-1cc0cd2f5a84",
   "metadata": {},
   "source": [
    "Función para calcular los índices de calidad de la predicción:"
   ]
  },
  {
   "cell_type": "code",
   "execution_count": 8,
   "id": "10a33347-9f03-4860-a102-30244d952acf",
   "metadata": {},
   "outputs": [],
   "source": [
    "def indices_general(MC, nombres = None):\n",
    "    precision_global = np.sum(MC.diagonal()) / np.sum(MC)\n",
    "    error_global = 1 - precision_global\n",
    "    return {\"> Matriz de Confusión\":MC, \n",
    "            \"> Precisión Global\":precision_global, \n",
    "            \"> Error Global\":error_global}"
   ]
  },
  {
   "cell_type": "markdown",
   "id": "6ffb1f4c-871f-49bb-ae48-8f24df077929",
   "metadata": {},
   "source": [
    "Este fragmento de código es el encargado de hacer las combinaciones aleatorias para la obtención de ina precisión  superior al 90%. En base a las columnas del DataSet general obtenido en las celdas anteriores se hace una combinación de columnas aleatorias y se entrena la red neuronal con dichas columnas, si no se cumple la condición de precisión de más de 90%, se realiza otra combinación."
   ]
  },
  {
   "cell_type": "code",
   "execution_count": 9,
   "id": "12a3d72b-483a-4ee0-8c88-31da1352eb7d",
   "metadata": {},
   "outputs": [
    {
     "name": "stdout",
     "output_type": "stream",
     "text": [
      "\u001b[47m >>> CARACTERÍSTICAS ÓPTIMAS <<< \n",
      "\u001b[49m\n",
      "['#Ala (A)' '#Trp (W)' '%Ala (A)' '#Phe (F)' '%Asn (N)']\n",
      "\u001b[43m\n",
      " - Índices obtenidos: \u001b[49m\u001b[39m\n",
      "\n",
      "> Matriz de Confusión:\n",
      "[[25  0]\n",
      " [ 3  8]]\n",
      "\n",
      "> Precisión Global:\n",
      "0.9166666666666666\n",
      "\n",
      "> Error Global:\n",
      "0.08333333333333337\n"
     ]
    }
   ],
   "source": [
    "# Se carga el DataSet general.\n",
    "data = pd.read_excel('DataSet.xlsx')\n",
    "precision_global = 0\n",
    "\n",
    "# Condición de precisión.\n",
    "while precision_global < 0.9:\n",
    "    # Seleccionar aleatoriamente un número de columnas del DataSet.\n",
    "    cant = random.randint(1, 46)\n",
    "    # Evitar repetir columnas seleccionadas.\n",
    "    col = random.sample(range(46), cant)\n",
    "    X = data.iloc[:, col]\n",
    "    y = data.iloc[:, 46]\n",
    "    caracteristicas = X\n",
    "    categoria = y\n",
    "    X = np.array(X)\n",
    "    y = np.array(y)\n",
    "    X_train, X_test, y_train, y_test = train_test_split(X, y, train_size=0.7, random_state=0)\n",
    "    # Se entrena la red.\n",
    "    instancia_red = MLPClassifier(solver='adam', random_state=0, max_iter=2000)\n",
    "    instancia_red.fit(X_train, y_train)\n",
    "    prediccion = instancia_red.predict(X_test)\n",
    "    MC = confusion_matrix(y_test, prediccion)\n",
    "    precision_global = np.sum(np.diag(MC)) / np.sum(MC)\n",
    "\n",
    "# Calcular e imprimir los índices generales y las características adecuadas.\n",
    "print(Back.WHITE  + \" >>> CARACTERÍSTICAS ÓPTIMAS <<< \\n\" + Back.RESET)\n",
    "print(caracteristicas.columns.values)\n",
    "indices = indices_general(MC, list(np.unique(y)))\n",
    "print(Back.YELLOW + \"\\n - Índices obtenidos: \" + Back.RESET + Fore.RESET)\n",
    "for k in indices:\n",
    "    print(\"\\n%s:\\n%s\" % (k, str(indices[k])))\n",
    "\n",
    "nuevo = pd.concat([caracteristicas, categoria], axis=1)\n",
    "nuevo.to_excel('DataSetOptimo.xlsx', index=False)"
   ]
  },
  {
   "cell_type": "markdown",
   "id": "302d0e6f-16a6-4fdc-9f9c-8cfe0b568604",
   "metadata": {},
   "source": [
    "## ▪️ Red Neuronal."
   ]
  },
  {
   "cell_type": "markdown",
   "id": "a034c067-bc91-4b7c-920f-35831c650f54",
   "metadata": {},
   "source": [
    "Se lee el archivo del DataSet óptimo, y se muestran la respectiuva matriz categórica y matriz a predecir."
   ]
  },
  {
   "cell_type": "code",
   "execution_count": 10,
   "id": "ec160b0b-5bf9-4c42-9dea-7d5c341bd826",
   "metadata": {
    "scrolled": true
   },
   "outputs": [
    {
     "name": "stdout",
     "output_type": "stream",
     "text": [
      ">> Se muestra la matriz categorica:\n",
      "\n",
      "[[1.47000000e+02 0.00000000e+00 4.11764706e+01 0.00000000e+00\n",
      "  0.00000000e+00]\n",
      " [8.90000000e+02 1.00000000e+00 3.48200313e+01 0.00000000e+00\n",
      "  0.00000000e+00]\n",
      " [4.60000000e+01 0.00000000e+00 4.38095238e+01 0.00000000e+00\n",
      "  0.00000000e+00]\n",
      " [8.98000000e+02 0.00000000e+00 3.50097466e+01 0.00000000e+00\n",
      "  0.00000000e+00]\n",
      " [8.20000000e+02 0.00000000e+00 3.49531117e+01 0.00000000e+00\n",
      "  0.00000000e+00]\n",
      " [1.94000000e+02 0.00000000e+00 2.81976744e+01 0.00000000e+00\n",
      "  0.00000000e+00]\n",
      " [8.99000000e+02 0.00000000e+00 3.52549020e+01 0.00000000e+00\n",
      "  0.00000000e+00]\n",
      " [3.38700000e+03 0.00000000e+00 3.51239241e+01 0.00000000e+00\n",
      "  0.00000000e+00]\n",
      " [1.24000000e+02 0.00000000e+00 4.49275362e+01 0.00000000e+00\n",
      "  0.00000000e+00]\n",
      " [1.27000000e+02 0.00000000e+00 4.60144928e+01 0.00000000e+00\n",
      "  0.00000000e+00]\n",
      " [9.39000000e+02 0.00000000e+00 3.46878463e+01 0.00000000e+00\n",
      "  0.00000000e+00]\n",
      " [3.44000000e+03 0.00000000e+00 3.55005160e+01 0.00000000e+00\n",
      "  0.00000000e+00]\n",
      " [8.09000000e+02 0.00000000e+00 3.65237020e+01 0.00000000e+00\n",
      "  0.00000000e+00]\n",
      " [9.20000000e+01 0.00000000e+00 4.44444444e+01 0.00000000e+00\n",
      "  0.00000000e+00]\n",
      " [3.49600000e+03 0.00000000e+00 3.58049980e+01 0.00000000e+00\n",
      "  0.00000000e+00]\n",
      " [1.41000000e+02 0.00000000e+00 4.12280702e+01 0.00000000e+00\n",
      "  0.00000000e+00]\n",
      " [3.41900000e+03 0.00000000e+00 3.51459704e+01 0.00000000e+00\n",
      "  0.00000000e+00]\n",
      " [8.83000000e+02 0.00000000e+00 3.50396825e+01 0.00000000e+00\n",
      "  0.00000000e+00]\n",
      " [2.41000000e+02 0.00000000e+00 3.95730706e+01 0.00000000e+00\n",
      "  1.64203612e-01]\n",
      " [1.22000000e+02 0.00000000e+00 4.45255474e+01 0.00000000e+00\n",
      "  0.00000000e+00]\n",
      " [1.22000000e+02 0.00000000e+00 4.45255474e+01 0.00000000e+00\n",
      "  0.00000000e+00]\n",
      " [1.14000000e+02 0.00000000e+00 4.16058394e+01 0.00000000e+00\n",
      "  0.00000000e+00]\n",
      " [1.30000000e+02 0.00000000e+00 4.81481481e+01 0.00000000e+00\n",
      "  0.00000000e+00]\n",
      " [5.94000000e+02 0.00000000e+00 3.63525092e+01 0.00000000e+00\n",
      "  0.00000000e+00]\n",
      " [8.89000000e+02 3.00000000e+00 3.46588694e+01 0.00000000e+00\n",
      "  2.33918129e-01]\n",
      " [1.27000000e+02 0.00000000e+00 4.65201465e+01 0.00000000e+00\n",
      "  0.00000000e+00]\n",
      " [5.47000000e+02 0.00000000e+00 3.85482734e+01 0.00000000e+00\n",
      "  7.04721635e-02]\n",
      " [3.30400000e+03 0.00000000e+00 3.59521219e+01 0.00000000e+00\n",
      "  0.00000000e+00]\n",
      " [8.89000000e+02 0.00000000e+00 3.47401329e+01 0.00000000e+00\n",
      "  0.00000000e+00]\n",
      " [8.88000000e+02 0.00000000e+00 3.44988345e+01 0.00000000e+00\n",
      "  0.00000000e+00]\n",
      " [9.04000000e+02 0.00000000e+00 3.51204351e+01 0.00000000e+00\n",
      "  0.00000000e+00]\n",
      " [8.87000000e+02 0.00000000e+00 3.45404984e+01 0.00000000e+00\n",
      "  0.00000000e+00]\n",
      " [8.81000000e+02 0.00000000e+00 3.43469786e+01 0.00000000e+00\n",
      "  0.00000000e+00]\n",
      " [3.41200000e+03 0.00000000e+00 3.53392025e+01 0.00000000e+00\n",
      "  0.00000000e+00]\n",
      " [1.36000000e+02 0.00000000e+00 4.04761905e+01 0.00000000e+00\n",
      "  0.00000000e+00]\n",
      " [1.65000000e+02 0.00000000e+00 4.25257732e+01 0.00000000e+00\n",
      "  0.00000000e+00]\n",
      " [1.51000000e+02 0.00000000e+00 4.45427729e+01 0.00000000e+00\n",
      "  0.00000000e+00]\n",
      " [9.40000000e+01 0.00000000e+00 4.97354497e+01 0.00000000e+00\n",
      "  0.00000000e+00]\n",
      " [1.22000000e+02 0.00000000e+00 4.46886447e+01 0.00000000e+00\n",
      "  0.00000000e+00]\n",
      " [8.70000000e+02 0.00000000e+00 3.45238095e+01 0.00000000e+00\n",
      "  0.00000000e+00]\n",
      " [1.09000000e+02 0.00000000e+00 3.68243243e+01 0.00000000e+00\n",
      "  0.00000000e+00]\n",
      " [3.42500000e+03 0.00000000e+00 3.59014675e+01 0.00000000e+00\n",
      "  0.00000000e+00]\n",
      " [9.72000000e+02 0.00000000e+00 3.39504017e+01 0.00000000e+00\n",
      "  0.00000000e+00]\n",
      " [9.84000000e+02 0.00000000e+00 3.44417221e+01 0.00000000e+00\n",
      "  0.00000000e+00]\n",
      " [1.40000000e+02 0.00000000e+00 4.24242424e+01 0.00000000e+00\n",
      "  0.00000000e+00]\n",
      " [1.24000000e+02 0.00000000e+00 4.41281139e+01 0.00000000e+00\n",
      "  0.00000000e+00]\n",
      " [1.16600000e+03 0.00000000e+00 3.47644603e+01 0.00000000e+00\n",
      "  0.00000000e+00]\n",
      " [9.92000000e+02 0.00000000e+00 3.42896647e+01 0.00000000e+00\n",
      "  0.00000000e+00]\n",
      " [8.92000000e+02 0.00000000e+00 3.49392871e+01 0.00000000e+00\n",
      "  0.00000000e+00]\n",
      " [1.07500000e+03 0.00000000e+00 3.51192421e+01 0.00000000e+00\n",
      "  0.00000000e+00]\n",
      " [5.86000000e+02 0.00000000e+00 3.72063492e+01 0.00000000e+00\n",
      "  0.00000000e+00]\n",
      " [1.16000000e+03 0.00000000e+00 3.50453172e+01 0.00000000e+00\n",
      "  0.00000000e+00]\n",
      " [1.47000000e+02 0.00000000e+00 4.26086957e+01 0.00000000e+00\n",
      "  0.00000000e+00]\n",
      " [6.20000000e+02 0.00000000e+00 3.61305361e+01 0.00000000e+00\n",
      "  0.00000000e+00]\n",
      " [9.80000000e+02 0.00000000e+00 3.40632603e+01 0.00000000e+00\n",
      "  0.00000000e+00]\n",
      " [3.23600000e+03 0.00000000e+00 3.61402725e+01 0.00000000e+00\n",
      "  0.00000000e+00]\n",
      " [3.27600000e+03 0.00000000e+00 3.65665811e+01 0.00000000e+00\n",
      "  0.00000000e+00]\n",
      " [3.51300000e+03 0.00000000e+00 3.54383133e+01 0.00000000e+00\n",
      "  0.00000000e+00]\n",
      " [1.13400000e+03 0.00000000e+00 3.50649351e+01 0.00000000e+00\n",
      "  0.00000000e+00]\n",
      " [7.30000000e+01 0.00000000e+00 4.42424242e+01 0.00000000e+00\n",
      "  0.00000000e+00]\n",
      " [3.42000000e+03 0.00000000e+00 3.53305785e+01 0.00000000e+00\n",
      "  0.00000000e+00]\n",
      " [9.80000000e+02 0.00000000e+00 3.45679012e+01 0.00000000e+00\n",
      "  0.00000000e+00]\n",
      " [9.80000000e+01 0.00000000e+00 4.73429952e+01 0.00000000e+00\n",
      "  0.00000000e+00]\n",
      " [9.40000000e+01 0.00000000e+00 4.54106280e+01 0.00000000e+00\n",
      "  0.00000000e+00]\n",
      " [3.20700000e+03 0.00000000e+00 3.66681912e+01 0.00000000e+00\n",
      "  0.00000000e+00]\n",
      " [3.25100000e+03 0.00000000e+00 3.64584502e+01 0.00000000e+00\n",
      "  0.00000000e+00]\n",
      " [3.48800000e+03 0.00000000e+00 3.56609754e+01 0.00000000e+00\n",
      "  0.00000000e+00]\n",
      " [3.21700000e+03 0.00000000e+00 3.68077803e+01 0.00000000e+00\n",
      "  0.00000000e+00]\n",
      " [9.10000000e+01 0.00000000e+00 4.46078431e+01 0.00000000e+00\n",
      "  0.00000000e+00]\n",
      " [7.09000000e+02 0.00000000e+00 3.50990099e+01 0.00000000e+00\n",
      "  0.00000000e+00]\n",
      " [3.28400000e+03 0.00000000e+00 3.66845398e+01 0.00000000e+00\n",
      "  0.00000000e+00]\n",
      " [1.13000000e+02 0.00000000e+00 4.37984496e+01 0.00000000e+00\n",
      "  0.00000000e+00]\n",
      " [2.31000000e+02 0.00000000e+00 4.05263158e+01 0.00000000e+00\n",
      "  1.75438596e-01]\n",
      " [3.27100000e+03 0.00000000e+00 3.63970179e+01 0.00000000e+00\n",
      "  0.00000000e+00]\n",
      " [5.28000000e+02 0.00000000e+00 3.95505618e+01 0.00000000e+00\n",
      "  0.00000000e+00]\n",
      " [1.01500000e+03 0.00000000e+00 3.46653005e+01 0.00000000e+00\n",
      "  0.00000000e+00]\n",
      " [3.26900000e+03 0.00000000e+00 3.56022653e+01 0.00000000e+00\n",
      "  0.00000000e+00]\n",
      " [1.43000000e+02 0.00000000e+00 4.41358025e+01 0.00000000e+00\n",
      "  0.00000000e+00]\n",
      " [1.43000000e+02 0.00000000e+00 4.41358025e+01 0.00000000e+00\n",
      "  0.00000000e+00]\n",
      " [1.44000000e+02 0.00000000e+00 4.44444444e+01 0.00000000e+00\n",
      "  0.00000000e+00]\n",
      " [1.40000000e+02 0.00000000e+00 4.32098765e+01 0.00000000e+00\n",
      "  0.00000000e+00]\n",
      " [2.62000000e+02 0.00000000e+00 4.08736349e+01 0.00000000e+00\n",
      "  0.00000000e+00]\n",
      " [1.19000000e+02 0.00000000e+00 4.26523297e+01 0.00000000e+00\n",
      "  0.00000000e+00]\n",
      " [3.18100000e+03 0.00000000e+00 3.61847344e+01 0.00000000e+00\n",
      "  0.00000000e+00]\n",
      " [2.50000000e+02 0.00000000e+00 4.06504065e+01 0.00000000e+00\n",
      "  0.00000000e+00]\n",
      " [2.50000000e+02 0.00000000e+00 3.98724083e+01 0.00000000e+00\n",
      "  0.00000000e+00]\n",
      " [1.09400000e+03 0.00000000e+00 3.46641318e+01 0.00000000e+00\n",
      "  0.00000000e+00]\n",
      " [3.27800000e+03 0.00000000e+00 3.56575655e+01 0.00000000e+00\n",
      "  7.61448929e-02]\n",
      " [3.43100000e+03 0.00000000e+00 3.51969635e+01 0.00000000e+00\n",
      "  0.00000000e+00]\n",
      " [3.43600000e+03 0.00000000e+00 3.50791220e+01 0.00000000e+00\n",
      "  0.00000000e+00]\n",
      " [9.78000000e+02 0.00000000e+00 3.39465463e+01 0.00000000e+00\n",
      "  0.00000000e+00]\n",
      " [1.46000000e+02 0.00000000e+00 4.42424242e+01 0.00000000e+00\n",
      "  0.00000000e+00]\n",
      " [1.51000000e+02 0.00000000e+00 4.53453453e+01 0.00000000e+00\n",
      "  0.00000000e+00]\n",
      " [1.52000000e+02 0.00000000e+00 4.56456456e+01 0.00000000e+00\n",
      "  0.00000000e+00]\n",
      " [1.44000000e+02 0.00000000e+00 4.32432432e+01 0.00000000e+00\n",
      "  0.00000000e+00]\n",
      " [1.68000000e+02 0.00000000e+00 4.32989691e+01 0.00000000e+00\n",
      "  0.00000000e+00]\n",
      " [9.70000000e+01 0.00000000e+00 5.13227513e+01 0.00000000e+00\n",
      "  0.00000000e+00]\n",
      " [9.02000000e+02 0.00000000e+00 3.50427350e+01 0.00000000e+00\n",
      "  0.00000000e+00]\n",
      " [1.35000000e+02 0.00000000e+00 4.54545455e+01 0.00000000e+00\n",
      "  0.00000000e+00]\n",
      " [1.45000000e+02 0.00000000e+00 4.27728614e+01 0.00000000e+00\n",
      "  0.00000000e+00]\n",
      " [1.47000000e+02 0.00000000e+00 4.33628319e+01 0.00000000e+00\n",
      "  0.00000000e+00]\n",
      " [9.70000000e+01 0.00000000e+00 5.13227513e+01 0.00000000e+00\n",
      "  0.00000000e+00]\n",
      " [2.05000000e+02 0.00000000e+00 4.09181637e+01 0.00000000e+00\n",
      "  0.00000000e+00]\n",
      " [3.46300000e+03 0.00000000e+00 3.55617170e+01 0.00000000e+00\n",
      "  0.00000000e+00]\n",
      " [9.01000000e+02 0.00000000e+00 3.48414540e+01 0.00000000e+00\n",
      "  0.00000000e+00]\n",
      " [2.60000000e+02 0.00000000e+00 3.97553517e+01 0.00000000e+00\n",
      "  0.00000000e+00]\n",
      " [2.36000000e+02 0.00000000e+00 4.15492958e+01 0.00000000e+00\n",
      "  0.00000000e+00]\n",
      " [8.97000000e+02 0.00000000e+00 3.52594340e+01 0.00000000e+00\n",
      "  0.00000000e+00]\n",
      " [3.03000000e+02 0.00000000e+00 3.97637795e+01 0.00000000e+00\n",
      "  0.00000000e+00]\n",
      " [3.02000000e+02 0.00000000e+00 3.96325459e+01 0.00000000e+00\n",
      "  0.00000000e+00]\n",
      " [1.00400000e+03 0.00000000e+00 3.45968298e+01 0.00000000e+00\n",
      "  0.00000000e+00]\n",
      " [3.48700000e+03 0.00000000e+00 3.57971461e+01 0.00000000e+00\n",
      "  0.00000000e+00]\n",
      " [9.67000000e+02 0.00000000e+00 3.44618674e+01 0.00000000e+00\n",
      "  0.00000000e+00]\n",
      " [1.43000000e+02 0.00000000e+00 4.18128655e+01 0.00000000e+00\n",
      "  0.00000000e+00]\n",
      " [1.23000000e+02 0.00000000e+00 4.50549451e+01 0.00000000e+00\n",
      "  0.00000000e+00]\n",
      " [1.28000000e+02 0.00000000e+00 4.63768116e+01 0.00000000e+00\n",
      "  0.00000000e+00]\n",
      " [2.52000000e+02 0.00000000e+00 4.11764706e+01 0.00000000e+00\n",
      "  0.00000000e+00]\n",
      " [2.50000000e+02 0.00000000e+00 4.20875421e+01 0.00000000e+00\n",
      "  0.00000000e+00]]\n",
      "\n",
      ">> Se muestra la matriz a predecir:\n",
      "\n",
      "['R5' 'R5' 'R5' 'R5' 'R5' 'R5' 'R5' 'R5' 'R5' 'R5' 'R5' 'R5' 'R5' 'R5'\n",
      " 'R5' 'R5' 'R5' 'R5' 'R5' 'R5' 'R5' 'R5' 'R5' 'R5' 'R5' 'R5' 'R5' 'R5'\n",
      " 'R5' 'R5' 'R5' 'R5' 'R5' 'R5' 'R5' 'R5' 'R5' 'R5' 'R5' 'R5' 'R5' 'R5'\n",
      " 'R5' 'R5' 'R5' 'R5' 'R5' 'R5' 'R5' 'R5' 'R5' 'R5' 'R5' 'R5' 'R5' 'R5'\n",
      " 'R5' 'R5' 'R5' 'R5' 'R5' 'R5' 'R5' 'R5' 'R5' 'R5' 'R5' 'R5' 'R5' 'R5'\n",
      " 'R5' 'R5' 'R5' 'R5' 'R5' 'R5' 'R5' 'X4' 'X4' 'X4' 'X4' 'X4' 'X4' 'X4'\n",
      " 'X4' 'X4' 'X4' 'X4' 'X4' 'X4' 'X4' 'X4' 'X4' 'X4' 'X4' 'X4' 'X4' 'X4'\n",
      " 'X4' 'X4' 'X4' 'X4' 'X4' 'X4' 'X4' 'X4' 'X4' 'X4' 'X4' 'X4' 'X4' 'X4'\n",
      " 'X4' 'X4' 'X4' 'X4' 'X4' 'X4']\n"
     ]
    }
   ],
   "source": [
    "data = pd.read_excel('DataSetOptimo.xlsx')\n",
    "X = data.iloc[:,0:5]\n",
    "y = data.iloc[:,5]\n",
    "X = np.array(X)\n",
    "y = np.array(y)\n",
    "print( \">> Se muestra la matriz categorica:\\n\")\n",
    "print(X)\n",
    "print( \"\\n>> Se muestra la matriz a predecir:\\n\")\n",
    "print(y)"
   ]
  },
  {
   "cell_type": "markdown",
   "id": "55914eca-fb21-403c-bc4b-790c35f9bd2a",
   "metadata": {},
   "source": [
    "Se separan los datos con el 70% de los datos para entrenamiento y el 30% para testing:"
   ]
  },
  {
   "cell_type": "code",
   "execution_count": 11,
   "id": "b944cc91-2f14-4eea-9ec4-55cbe90ec97a",
   "metadata": {},
   "outputs": [],
   "source": [
    "X_train, X_test, y_train, y_test = train_test_split(X, y, train_size=0.7, random_state=0)"
   ]
  },
  {
   "cell_type": "markdown",
   "id": "2c18a241-c2a5-40da-b3c8-33a0ba1d29d5",
   "metadata": {},
   "source": [
    "Mediante el constructor inicializa la instancia_red."
   ]
  },
  {
   "cell_type": "code",
   "execution_count": 12,
   "id": "f7579d4c-ad79-49cf-868b-08c50d180e1a",
   "metadata": {},
   "outputs": [
    {
     "name": "stdout",
     "output_type": "stream",
     "text": [
      "MLPClassifier(max_iter=2000, random_state=0)\n"
     ]
    },
    {
     "data": {
      "text/html": [
       "<style>#sk-container-id-1 {color: black;}#sk-container-id-1 pre{padding: 0;}#sk-container-id-1 div.sk-toggleable {background-color: white;}#sk-container-id-1 label.sk-toggleable__label {cursor: pointer;display: block;width: 100%;margin-bottom: 0;padding: 0.3em;box-sizing: border-box;text-align: center;}#sk-container-id-1 label.sk-toggleable__label-arrow:before {content: \"▸\";float: left;margin-right: 0.25em;color: #696969;}#sk-container-id-1 label.sk-toggleable__label-arrow:hover:before {color: black;}#sk-container-id-1 div.sk-estimator:hover label.sk-toggleable__label-arrow:before {color: black;}#sk-container-id-1 div.sk-toggleable__content {max-height: 0;max-width: 0;overflow: hidden;text-align: left;background-color: #f0f8ff;}#sk-container-id-1 div.sk-toggleable__content pre {margin: 0.2em;color: black;border-radius: 0.25em;background-color: #f0f8ff;}#sk-container-id-1 input.sk-toggleable__control:checked~div.sk-toggleable__content {max-height: 200px;max-width: 100%;overflow: auto;}#sk-container-id-1 input.sk-toggleable__control:checked~label.sk-toggleable__label-arrow:before {content: \"▾\";}#sk-container-id-1 div.sk-estimator input.sk-toggleable__control:checked~label.sk-toggleable__label {background-color: #d4ebff;}#sk-container-id-1 div.sk-label input.sk-toggleable__control:checked~label.sk-toggleable__label {background-color: #d4ebff;}#sk-container-id-1 input.sk-hidden--visually {border: 0;clip: rect(1px 1px 1px 1px);clip: rect(1px, 1px, 1px, 1px);height: 1px;margin: -1px;overflow: hidden;padding: 0;position: absolute;width: 1px;}#sk-container-id-1 div.sk-estimator {font-family: monospace;background-color: #f0f8ff;border: 1px dotted black;border-radius: 0.25em;box-sizing: border-box;margin-bottom: 0.5em;}#sk-container-id-1 div.sk-estimator:hover {background-color: #d4ebff;}#sk-container-id-1 div.sk-parallel-item::after {content: \"\";width: 100%;border-bottom: 1px solid gray;flex-grow: 1;}#sk-container-id-1 div.sk-label:hover label.sk-toggleable__label {background-color: #d4ebff;}#sk-container-id-1 div.sk-serial::before {content: \"\";position: absolute;border-left: 1px solid gray;box-sizing: border-box;top: 0;bottom: 0;left: 50%;z-index: 0;}#sk-container-id-1 div.sk-serial {display: flex;flex-direction: column;align-items: center;background-color: white;padding-right: 0.2em;padding-left: 0.2em;position: relative;}#sk-container-id-1 div.sk-item {position: relative;z-index: 1;}#sk-container-id-1 div.sk-parallel {display: flex;align-items: stretch;justify-content: center;background-color: white;position: relative;}#sk-container-id-1 div.sk-item::before, #sk-container-id-1 div.sk-parallel-item::before {content: \"\";position: absolute;border-left: 1px solid gray;box-sizing: border-box;top: 0;bottom: 0;left: 50%;z-index: -1;}#sk-container-id-1 div.sk-parallel-item {display: flex;flex-direction: column;z-index: 1;position: relative;background-color: white;}#sk-container-id-1 div.sk-parallel-item:first-child::after {align-self: flex-end;width: 50%;}#sk-container-id-1 div.sk-parallel-item:last-child::after {align-self: flex-start;width: 50%;}#sk-container-id-1 div.sk-parallel-item:only-child::after {width: 0;}#sk-container-id-1 div.sk-dashed-wrapped {border: 1px dashed gray;margin: 0 0.4em 0.5em 0.4em;box-sizing: border-box;padding-bottom: 0.4em;background-color: white;}#sk-container-id-1 div.sk-label label {font-family: monospace;font-weight: bold;display: inline-block;line-height: 1.2em;}#sk-container-id-1 div.sk-label-container {text-align: center;}#sk-container-id-1 div.sk-container {/* jupyter's `normalize.less` sets `[hidden] { display: none; }` but bootstrap.min.css set `[hidden] { display: none !important; }` so we also need the `!important` here to be able to override the default hidden behavior on the sphinx rendered scikit-learn.org. See: https://github.com/scikit-learn/scikit-learn/issues/21755 */display: inline-block !important;position: relative;}#sk-container-id-1 div.sk-text-repr-fallback {display: none;}</style><div id=\"sk-container-id-1\" class=\"sk-top-container\"><div class=\"sk-text-repr-fallback\"><pre>MLPClassifier(max_iter=2000, random_state=0)</pre><b>In a Jupyter environment, please rerun this cell to show the HTML representation or trust the notebook. <br />On GitHub, the HTML representation is unable to render, please try loading this page with nbviewer.org.</b></div><div class=\"sk-container\" hidden><div class=\"sk-item\"><div class=\"sk-estimator sk-toggleable\"><input class=\"sk-toggleable__control sk-hidden--visually\" id=\"sk-estimator-id-1\" type=\"checkbox\" checked><label for=\"sk-estimator-id-1\" class=\"sk-toggleable__label sk-toggleable__label-arrow\">MLPClassifier</label><div class=\"sk-toggleable__content\"><pre>MLPClassifier(max_iter=2000, random_state=0)</pre></div></div></div></div></div>"
      ],
      "text/plain": [
       "MLPClassifier(max_iter=2000, random_state=0)"
      ]
     },
     "execution_count": 12,
     "metadata": {},
     "output_type": "execute_result"
    }
   ],
   "source": [
    "instancia_red = MLPClassifier(solver='adam', random_state=0, max_iter = 2000)\n",
    "print(instancia_red)\n",
    "instancia_red.fit(X_train,y_train)"
   ]
  },
  {
   "cell_type": "markdown",
   "id": "a3b1c35e-4c59-4f86-9f99-039258293973",
   "metadata": {},
   "source": [
    "Las predicciones del testing se muestran:"
   ]
  },
  {
   "cell_type": "code",
   "execution_count": 13,
   "id": "436c5c3e-fdc0-43fc-aaaf-9f954373660a",
   "metadata": {},
   "outputs": [
    {
     "name": "stdout",
     "output_type": "stream",
     "text": [
      "\u001b[47m >>> PREDICCIONES DEL TESTING <<< \n",
      "\n",
      "\u001b[49m['R5' 'X4' 'X4' 'R5' 'R5' 'R5' 'R5' 'R5' 'R5' 'R5' 'R5' 'R5' 'R5' 'R5'\n",
      " 'X4' 'R5' 'R5' 'R5' 'X4' 'R5' 'R5' 'X4' 'R5' 'R5' 'X4' 'R5' 'R5' 'R5'\n",
      " 'R5' 'X4' 'R5' 'R5' 'R5' 'R5' 'R5' 'X4']\n"
     ]
    }
   ],
   "source": [
    "print(Back.WHITE + \" >>> PREDICCIONES DEL TESTING <<< \\n\\n\" + Back.RESET + str(instancia_red.predict(X_test)))"
   ]
  },
  {
   "cell_type": "markdown",
   "id": "d184e936-8808-4c87-83b1-a5ae069071f8",
   "metadata": {},
   "source": [
    "## ▪️ Índices de calidad del modelo."
   ]
  },
  {
   "cell_type": "code",
   "execution_count": 14,
   "id": "0086ab32-8054-4bd7-8008-a0c830f1a4be",
   "metadata": {},
   "outputs": [
    {
     "name": "stdout",
     "output_type": "stream",
     "text": [
      "\u001b[43m\n",
      " - Índices obtenidos: \u001b[49m\u001b[39m\n",
      "\n",
      "> Matriz de Confusión:\n",
      "[[25  0]\n",
      " [ 3  8]]\n",
      "\n",
      "> Precisión Global:\n",
      "0.9166666666666666\n",
      "\n",
      "> Error Global:\n",
      "0.08333333333333337\n"
     ]
    }
   ],
   "source": [
    "prediccion = instancia_red.predict(X_test)\n",
    "MC = confusion_matrix(y_test, prediccion)\n",
    "indices = indices_general(MC,list(np.unique(y)))\n",
    "print(Back.YELLOW + \"\\n - Índices obtenidos: \" + Back.RESET + Fore.RESET)\n",
    "for k in indices:\n",
    "    print(\"\\n%s:\\n%s\"%(k,str(indices[k])))"
   ]
  },
  {
   "cell_type": "markdown",
   "id": "3cc30720-dbb0-4bfe-8b7f-603c147cd8c7",
   "metadata": {},
   "source": [
    "## ▪️ Predicción de tropismos R5X4."
   ]
  },
  {
   "cell_type": "code",
   "execution_count": 15,
   "id": "3a23f6b7-ab7c-4e37-953b-eda9c33c4b85",
   "metadata": {},
   "outputs": [
    {
     "name": "stdout",
     "output_type": "stream",
     "text": [
      "\u001b[47m >>> PREDICCION PARA TROPISMOS R5X4: <<< \n",
      "\u001b[49m\u001b[39m\n",
      "\u001b[94m\tAB014795\u001b[39m\tCorreceptor: \u001b[92m['X4']\n",
      "\u001b[94m\tAF062029\u001b[39m\tCorreceptor: \u001b[92m['X4']\n",
      "\u001b[94m\tAF062031\u001b[39m\tCorreceptor: \u001b[92m['X4']\n",
      "\u001b[94m\tAF062033\u001b[39m\tCorreceptor: \u001b[92m['X4']\n",
      "\u001b[94m\tAF107771\u001b[39m\tCorreceptor: \u001b[92m['R5']\n",
      "\u001b[94m\tU08680\u001b[39m\tCorreceptor: \u001b[92m['R5']\n",
      "\u001b[94m\tU08682\u001b[39m\tCorreceptor: \u001b[92m['R5']\n",
      "\u001b[94m\tU08444\u001b[39m\tCorreceptor: \u001b[92m['R5']\n",
      "\u001b[94m\tU08445\u001b[39m\tCorreceptor: \u001b[92m['R5']\n",
      "\u001b[94m\tAF355674\u001b[39m\tCorreceptor: \u001b[92m['X4']\n",
      "\u001b[94m\tAF355647\u001b[39m\tCorreceptor: \u001b[92m['X4']\n",
      "\u001b[94m\tAF355630\u001b[39m\tCorreceptor: \u001b[92m['X4']\n",
      "\u001b[94m\tAF355690\u001b[39m\tCorreceptor: \u001b[92m['X4']\n",
      "\u001b[94m\tM91819\u001b[39m\tCorreceptor: \u001b[92m['R5']\n",
      "\u001b[94m\tAF035532\u001b[39m\tCorreceptor: \u001b[92m['R5']\n",
      "\u001b[94m\tAF035533\u001b[39m\tCorreceptor: \u001b[92m['R5']\n",
      "\u001b[94m\tAF259019\u001b[39m\tCorreceptor: \u001b[92m['X4']\n",
      "\u001b[94m\tAF259025\u001b[39m\tCorreceptor: \u001b[92m['X4']\n",
      "\u001b[94m\tAF259021\u001b[39m\tCorreceptor: \u001b[92m['X4']\n",
      "\u001b[94m\tAF259041\u001b[39m\tCorreceptor: \u001b[92m['X4']\n",
      "\u001b[94m\tAF258970\u001b[39m\tCorreceptor: \u001b[92m['X4']\n",
      "\u001b[94m\tAF258978\u001b[39m\tCorreceptor: \u001b[92m['X4']\n",
      "\u001b[94m\tAF021607\u001b[39m\tCorreceptor: \u001b[92m['R5']\n",
      "\u001b[94m\tAF204137\u001b[39m\tCorreceptor: \u001b[92m['X4']\n",
      "\u001b[94m\tAF112925\u001b[39m\tCorreceptor: \u001b[92m['R5']\n",
      "\u001b[94m\tM17451\u001b[39m\tCorreceptor: \u001b[92m['R5']\n",
      "\u001b[94m\tK02007\u001b[39m\tCorreceptor: \u001b[92m['R5']\n",
      "\u001b[94m\tU39362\u001b[39m\tCorreceptor: \u001b[92m['R5']\n",
      "\u001b[94m\tAF069140\u001b[39m\tCorreceptor: \u001b[92m['R5']\n",
      "\u001b[94m\tAF458235\u001b[39m\tCorreceptor: \u001b[92m['X4']\n",
      "\u001b[94m\tAF005494\u001b[39m\tCorreceptor: \u001b[92m['R5']\n",
      "\u001b[32m\n",
      "\n",
      "+++ PROCESO COMPLETADO +++\u001b[39m\n"
     ]
    }
   ],
   "source": [
    "# Se lee el archivo de secuencias.\n",
    "data = pd.read_excel('NumeroAccesoSecuencias.xlsx')\n",
    "print(Back.WHITE  + \" >>> PREDICCION PARA TROPISMOS R5X4: <<< \\n\" + Back.RESET + Fore.RESET)\n",
    "\n",
    "# Se recorren todos los identificadores \"R5X4\".\n",
    "for iden in data['R5X4'].dropna():\n",
    "    fila_aux = []\n",
    "    \n",
    "    # Se obtienen los datos del identificador y se agregan al data frame.\n",
    "    fila = getIdenData(iden)\n",
    "    for i in col:\n",
    "        fila_aux.append(fila[i])\n",
    "        \n",
    "    # Se realiza la predicción y se imprime el resultado.\n",
    "    prediccion = instancia_red.predict(np.array([fila_aux]).reshape(1, -1))\n",
    "    print(Fore.LIGHTBLUE_EX + \"\\t\" + iden + Fore.RESET +  \"\\tCorreceptor: \" + Fore.LIGHTGREEN_EX + str(prediccion))\n",
    "    \n",
    "print(Fore.GREEN  + \"\\n\\n+++ PROCESO COMPLETADO +++\" + Fore.RESET)"
   ]
  }
 ],
 "metadata": {
  "kernelspec": {
   "display_name": "Python 3 (ipykernel)",
   "language": "python",
   "name": "python3"
  },
  "language_info": {
   "codemirror_mode": {
    "name": "ipython",
    "version": 3
   },
   "file_extension": ".py",
   "mimetype": "text/x-python",
   "name": "python",
   "nbconvert_exporter": "python",
   "pygments_lexer": "ipython3",
   "version": "3.11.5"
  }
 },
 "nbformat": 4,
 "nbformat_minor": 5
}
