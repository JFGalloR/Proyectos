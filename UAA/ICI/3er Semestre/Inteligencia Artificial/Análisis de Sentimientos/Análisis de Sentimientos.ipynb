{
 "cells": [
  {
   "cell_type": "markdown",
   "id": "83235b06",
   "metadata": {},
   "source": [
    "># Universidad Autónoma de Aguascalientes\n",
    ">## *Ingeniería en Computación Inteligente*\n",
    ">#### Materia:\n",
    ">Inteligencia Artificial\n",
    ">#### Topico: \n",
    ">Machine Learning (Agosto_Diciembre-2023)\n",
    ">#### Integrantes del Equipo:\n",
    ">- Juan Francisco Gallo Ramírez\n",
    ">- José Alfredo Díaz Robledo\n",
    ">- Luis Palbo Esparza Terrones\n",
    ">- Luis Manuel Flores Jiménez \n",
    ">#### Maestro: \n",
    ">Dr. Francisco Javier Luna Rosas\n",
    ">#### Fecha: \n",
    ">Octubre del 2023"
   ]
  },
  {
   "cell_type": "markdown",
   "id": "8e27cdad",
   "metadata": {},
   "source": [
    "# <<< Programa de Análisis de Sentimientos con Machine Learning >>>"
   ]
  },
  {
   "cell_type": "markdown",
   "id": "b78caf05",
   "metadata": {},
   "source": [
    "## Importamos las librerías necesarias:"
   ]
  },
  {
   "cell_type": "code",
   "execution_count": 13,
   "id": "6afdde52",
   "metadata": {},
   "outputs": [],
   "source": [
    "import os\n",
    "import numpy  as np\n",
    "import pandas as pd\n",
    "from sklearn.model_selection import train_test_split\n",
    "from sklearn.neural_network import MLPClassifier\n",
    "from sklearn.metrics import confusion_matrix\n",
    "from pandas import DataFrame\n",
    "import textprocess as t\n",
    "from gensim.models import Word2Vec"
   ]
  },
  {
   "cell_type": "markdown",
   "id": "229ebd13",
   "metadata": {},
   "source": [
    "## Lectura del archivo:\n",
    ">Cargamos los datos del archivo, es este caso serán las reseñas de películas y la calfiicación de la reseña (positiva o negativa)"
   ]
  },
  {
   "cell_type": "code",
   "execution_count": 2,
   "id": "ef117533",
   "metadata": {},
   "outputs": [
    {
     "name": "stdout",
     "output_type": "stream",
     "text": [
      ">> Se muestran las reseñas a procesar:\n",
      "\n",
      "0        In 1974, the teenager Martha Moxley (Maggie Gr...\n",
      "1        OK... so... I really like Kris Kristofferson a...\n",
      "2        ***SPOILER*** Do not read this, if you think a...\n",
      "3        hi for all the people who have seen this wonde...\n",
      "4        I recently bought the DVD, forgetting just how...\n",
      "                               ...                        \n",
      "49995    OK, lets start with the best. the building. al...\n",
      "49996    The British 'heritage film' industry is out of...\n",
      "49997    I don't even know where to begin on this one. ...\n",
      "49998    Richard Tyler is a little boy who is scared of...\n",
      "49999    I waited long to watch this movie. Also becaus...\n",
      "Name: review, Length: 50000, dtype: object\n",
      "\n",
      ">> Se muestran la calificación de la reseña:\n",
      "\n",
      "0        1\n",
      "1        0\n",
      "2        0\n",
      "3        1\n",
      "4        0\n",
      "        ..\n",
      "49995    0\n",
      "49996    0\n",
      "49997    0\n",
      "49998    0\n",
      "49999    1\n",
      "Name: sentiment, Length: 50000, dtype: int64\n"
     ]
    }
   ],
   "source": [
    "data = pd.read_excel(\"movie_data.xlsx\")\n",
    "reseñas = data['review'].copy()\n",
    "sentimiento = data['sentiment'].copy()\n",
    "print(\">> Se muestran las reseñas a procesar:\\n\")\n",
    "print(reseñas)\n",
    "print(\"\\n>> Se muestran la calificación de la reseña:\\n\")\n",
    "print(sentimiento)"
   ]
  },
  {
   "cell_type": "markdown",
   "id": "a8a6e780",
   "metadata": {},
   "source": [
    "## Preprocesamiento de texto:\n",
    ">Aplicamos el procesamiento de texto, que consta de remover las contracciones, limpiar el texto de caracteres no válidos, remover palabras duplicadas, remover las palabras que carezcan de significado (stopwords), lemantizar el texto y finalmente tokenizar la reseña:"
   ]
  },
  {
   "cell_type": "code",
   "execution_count": 3,
   "id": "86d78085",
   "metadata": {},
   "outputs": [
    {
     "name": "stdout",
     "output_type": "stream",
     "text": [
      ">> Se muestran las reseñas procesadas:\n",
      "\n",
      "0        [teenager, martha, moxley, maggie, grace, move...\n",
      "1        [ok, really, like, kris, kristofferson, usual,...\n",
      "2        [spoiler, read, think, watching, movie, althou...\n",
      "3        [hi, people, seen, wonderful, movie, im, sure,...\n",
      "4        [recently, bought, dvd, forgetting, much, hate...\n",
      "                               ...                        \n",
      "49995    [ok, let, start, best, building, although, har...\n",
      "49996    [british, heritage, film, industry, control, t...\n",
      "49997    [even, know, begin, one, family, worst, line, ...\n",
      "49998    [richard, tyler, little, boy, scared, everythi...\n",
      "49999    [waited, long, watch, movie, also, like, bruce...\n",
      "Name: review, Length: 50000, dtype: object\n"
     ]
    }
   ],
   "source": [
    "for i in range(len(reseñas)):\n",
    "    reseñas[i] = t.remove_contractions(reseñas[i])\n",
    "    reseñas[i] = t.clean_text(reseñas[i])\n",
    "    reseñas[i] = t.remove_duplicates(reseñas[i])\n",
    "    reseñas[i] = t.remove_stopwords(reseñas[i])\n",
    "    reseñas[i] = t.lemmatize_text(reseñas[i])\n",
    "    reseñas[i] = t.tokenize_text(reseñas[i])\n",
    "print(\">> Se muestran las reseñas procesadas:\\n\")\n",
    "print(reseñas)"
   ]
  },
  {
   "cell_type": "markdown",
   "id": "b4e693ed",
   "metadata": {},
   "source": [
    "## Procesamiento de lenguaje natural (NLP) :\n",
    ">Utilizamos Word2Vec para para representar palabras como vectores numéricos en un espacio multidimensional. Su principal objetivo es capturar las relaciones semánticas y contextuales entre palabras en un corpus de texto."
   ]
  },
  {
   "cell_type": "code",
   "execution_count": 4,
   "id": "e92e9c74",
   "metadata": {},
   "outputs": [],
   "source": [
    "model = Word2Vec(sentences=reseñas, vector_size=100, window=5, min_count=1, sg=0)\n",
    "def average_vector(tokens, model, vector_size):\n",
    "    if tokens:\n",
    "        vectors = [model.wv[word] for word in tokens if word in model.wv]\n",
    "        if vectors:\n",
    "            return sum(vectors) / len(vectors)\n",
    "    return [0] * vector_size\n",
    "reseñas = [average_vector(tokens, model, 100) for tokens in reseñas]"
   ]
  },
  {
   "cell_type": "markdown",
   "id": "7e10028a",
   "metadata": {},
   "source": [
    "## Se muestran los resultados de nuestras matrices:\n",
    ">Se convierten el su repectivo tipo de dato para ingresarlos a la red neuronal, además de imprimirlos."
   ]
  },
  {
   "cell_type": "code",
   "execution_count": 5,
   "id": "0ddfbc7e",
   "metadata": {},
   "outputs": [
    {
     "name": "stdout",
     "output_type": "stream",
     "text": [
      ">> Se muestra la matriz categorica:\n",
      "\n",
      "[[-0.14446671  0.47224125 -0.04878595 ... -0.05316269 -0.24201994\n",
      "   0.0127915 ]\n",
      " [ 0.05499815 -0.10298393 -0.47050315 ...  0.26607272  0.3566507\n",
      "   0.05657729]\n",
      " [-0.08200777  0.04941026 -0.316205   ...  0.19726215  0.2912637\n",
      "   0.00336045]\n",
      " ...\n",
      " [ 0.14596942 -0.05613727 -0.41993722 ...  0.2573617   0.20607127\n",
      "  -0.17194603]\n",
      " [ 0.00309675  0.06918902 -0.68949103 ...  0.11016285  0.10793357\n",
      "   0.0392578 ]\n",
      " [-0.43930748 -0.25208524 -0.72263515 ... -0.00103745  0.44321424\n",
      "   0.31891558]]\n",
      "\n",
      ">> Se muestra la matriz a predecir:\n",
      "\n",
      "[1 0 0 ... 0 0 1]\n"
     ]
    }
   ],
   "source": [
    "X = np.array(reseñas)\n",
    "print(\">> Se muestra la matriz categorica:\\n\")\n",
    "print(X)\n",
    "y = sentimiento.values\n",
    "print(\"\\n>> Se muestra la matriz a predecir:\\n\")\n",
    "print(y)"
   ]
  },
  {
   "cell_type": "markdown",
   "id": "9b08b283",
   "metadata": {},
   "source": [
    "## Red neuronal:"
   ]
  },
  {
   "cell_type": "markdown",
   "id": "cd8e4c5c",
   "metadata": {},
   "source": [
    ">- Se separan los datos con el 70% de los datos para entrenamiento y el 30% para testing:"
   ]
  },
  {
   "cell_type": "code",
   "execution_count": 6,
   "id": "59e066cd",
   "metadata": {
    "scrolled": true
   },
   "outputs": [],
   "source": [
    "X_train, X_test, y_train, y_test = train_test_split(X, y, train_size=0.7, random_state=0)"
   ]
  },
  {
   "cell_type": "markdown",
   "id": "23d41d2a",
   "metadata": {},
   "source": [
    ">- Mediante el constructor inicializa la instancia_red, con el sovel 'adam':"
   ]
  },
  {
   "cell_type": "code",
   "execution_count": 7,
   "id": "80a3b51a",
   "metadata": {},
   "outputs": [
    {
     "name": "stdout",
     "output_type": "stream",
     "text": [
      "MLPClassifier(max_iter=1000, random_state=0)\n"
     ]
    },
    {
     "data": {
      "text/html": [
       "<style>#sk-container-id-1 {color: black;}#sk-container-id-1 pre{padding: 0;}#sk-container-id-1 div.sk-toggleable {background-color: white;}#sk-container-id-1 label.sk-toggleable__label {cursor: pointer;display: block;width: 100%;margin-bottom: 0;padding: 0.3em;box-sizing: border-box;text-align: center;}#sk-container-id-1 label.sk-toggleable__label-arrow:before {content: \"▸\";float: left;margin-right: 0.25em;color: #696969;}#sk-container-id-1 label.sk-toggleable__label-arrow:hover:before {color: black;}#sk-container-id-1 div.sk-estimator:hover label.sk-toggleable__label-arrow:before {color: black;}#sk-container-id-1 div.sk-toggleable__content {max-height: 0;max-width: 0;overflow: hidden;text-align: left;background-color: #f0f8ff;}#sk-container-id-1 div.sk-toggleable__content pre {margin: 0.2em;color: black;border-radius: 0.25em;background-color: #f0f8ff;}#sk-container-id-1 input.sk-toggleable__control:checked~div.sk-toggleable__content {max-height: 200px;max-width: 100%;overflow: auto;}#sk-container-id-1 input.sk-toggleable__control:checked~label.sk-toggleable__label-arrow:before {content: \"▾\";}#sk-container-id-1 div.sk-estimator input.sk-toggleable__control:checked~label.sk-toggleable__label {background-color: #d4ebff;}#sk-container-id-1 div.sk-label input.sk-toggleable__control:checked~label.sk-toggleable__label {background-color: #d4ebff;}#sk-container-id-1 input.sk-hidden--visually {border: 0;clip: rect(1px 1px 1px 1px);clip: rect(1px, 1px, 1px, 1px);height: 1px;margin: -1px;overflow: hidden;padding: 0;position: absolute;width: 1px;}#sk-container-id-1 div.sk-estimator {font-family: monospace;background-color: #f0f8ff;border: 1px dotted black;border-radius: 0.25em;box-sizing: border-box;margin-bottom: 0.5em;}#sk-container-id-1 div.sk-estimator:hover {background-color: #d4ebff;}#sk-container-id-1 div.sk-parallel-item::after {content: \"\";width: 100%;border-bottom: 1px solid gray;flex-grow: 1;}#sk-container-id-1 div.sk-label:hover label.sk-toggleable__label {background-color: #d4ebff;}#sk-container-id-1 div.sk-serial::before {content: \"\";position: absolute;border-left: 1px solid gray;box-sizing: border-box;top: 0;bottom: 0;left: 50%;z-index: 0;}#sk-container-id-1 div.sk-serial {display: flex;flex-direction: column;align-items: center;background-color: white;padding-right: 0.2em;padding-left: 0.2em;position: relative;}#sk-container-id-1 div.sk-item {position: relative;z-index: 1;}#sk-container-id-1 div.sk-parallel {display: flex;align-items: stretch;justify-content: center;background-color: white;position: relative;}#sk-container-id-1 div.sk-item::before, #sk-container-id-1 div.sk-parallel-item::before {content: \"\";position: absolute;border-left: 1px solid gray;box-sizing: border-box;top: 0;bottom: 0;left: 50%;z-index: -1;}#sk-container-id-1 div.sk-parallel-item {display: flex;flex-direction: column;z-index: 1;position: relative;background-color: white;}#sk-container-id-1 div.sk-parallel-item:first-child::after {align-self: flex-end;width: 50%;}#sk-container-id-1 div.sk-parallel-item:last-child::after {align-self: flex-start;width: 50%;}#sk-container-id-1 div.sk-parallel-item:only-child::after {width: 0;}#sk-container-id-1 div.sk-dashed-wrapped {border: 1px dashed gray;margin: 0 0.4em 0.5em 0.4em;box-sizing: border-box;padding-bottom: 0.4em;background-color: white;}#sk-container-id-1 div.sk-label label {font-family: monospace;font-weight: bold;display: inline-block;line-height: 1.2em;}#sk-container-id-1 div.sk-label-container {text-align: center;}#sk-container-id-1 div.sk-container {/* jupyter's `normalize.less` sets `[hidden] { display: none; }` but bootstrap.min.css set `[hidden] { display: none !important; }` so we also need the `!important` here to be able to override the default hidden behavior on the sphinx rendered scikit-learn.org. See: https://github.com/scikit-learn/scikit-learn/issues/21755 */display: inline-block !important;position: relative;}#sk-container-id-1 div.sk-text-repr-fallback {display: none;}</style><div id=\"sk-container-id-1\" class=\"sk-top-container\"><div class=\"sk-text-repr-fallback\"><pre>MLPClassifier(max_iter=1000, random_state=0)</pre><b>In a Jupyter environment, please rerun this cell to show the HTML representation or trust the notebook. <br />On GitHub, the HTML representation is unable to render, please try loading this page with nbviewer.org.</b></div><div class=\"sk-container\" hidden><div class=\"sk-item\"><div class=\"sk-estimator sk-toggleable\"><input class=\"sk-toggleable__control sk-hidden--visually\" id=\"sk-estimator-id-1\" type=\"checkbox\" checked><label for=\"sk-estimator-id-1\" class=\"sk-toggleable__label sk-toggleable__label-arrow\">MLPClassifier</label><div class=\"sk-toggleable__content\"><pre>MLPClassifier(max_iter=1000, random_state=0)</pre></div></div></div></div></div>"
      ],
      "text/plain": [
       "MLPClassifier(max_iter=1000, random_state=0)"
      ]
     },
     "execution_count": 7,
     "metadata": {},
     "output_type": "execute_result"
    }
   ],
   "source": [
    "instancia_red = MLPClassifier(solver='adam', max_iter=1000, random_state=0)\n",
    "print(instancia_red)\n",
    "instancia_red.fit(X_train,y_train)"
   ]
  },
  {
   "cell_type": "markdown",
   "id": "de891681",
   "metadata": {},
   "source": [
    ">- Las predicciones del testing se muestran:"
   ]
  },
  {
   "cell_type": "code",
   "execution_count": 8,
   "id": "48544430",
   "metadata": {},
   "outputs": [
    {
     "name": "stdout",
     "output_type": "stream",
     "text": [
      ">> Las predicciones en Testing son: [1 0 1 ... 0 1 0]\n"
     ]
    }
   ],
   "source": [
    "print(\">> Las predicciones en Testing son: {}\".format(instancia_red.predict(X_test)))"
   ]
  },
  {
   "cell_type": "markdown",
   "id": "f610c505",
   "metadata": {},
   "source": [
    ">- Función para calcular los índices de calidad de la predicción:"
   ]
  },
  {
   "cell_type": "code",
   "execution_count": 9,
   "id": "969b087f",
   "metadata": {},
   "outputs": [],
   "source": [
    "def indices_general(MC, nombres = None):\n",
    "    precision_global = np.sum(MC.diagonal()) / np.sum(MC)\n",
    "    error_global = 1 - precision_global\n",
    "    return {\">> Matriz de Confusión\":MC, \n",
    "            \">> Precisión Global\":precision_global, \n",
    "            \">> Error Global\":error_global}"
   ]
  },
  {
   "cell_type": "markdown",
   "id": "40c0c36b",
   "metadata": {},
   "source": [
    ">#### Índices de Calidad del Modelo:"
   ]
  },
  {
   "cell_type": "code",
   "execution_count": 10,
   "id": "85d79989",
   "metadata": {},
   "outputs": [
    {
     "name": "stdout",
     "output_type": "stream",
     "text": [
      "\n",
      ">> Matriz de Confusión:\n",
      "[[6188 1154]\n",
      " [1285 6373]]\n",
      "\n",
      ">> Precisión Global:\n",
      "0.8374\n",
      "\n",
      ">> Error Global:\n",
      "0.16259999999999997\n"
     ]
    }
   ],
   "source": [
    "prediccion = instancia_red.predict(X_test)\n",
    "MC = confusion_matrix(y_test, prediccion)\n",
    "indices = indices_general(MC,list(np.unique(y)))\n",
    "for k in indices:\n",
    "    print(\"\\n%s:\\n%s\"%(k,str(indices[k])))"
   ]
  }
 ],
 "metadata": {
  "kernelspec": {
   "display_name": "Python 3 (ipykernel)",
   "language": "python",
   "name": "python3"
  },
  "language_info": {
   "codemirror_mode": {
    "name": "ipython",
    "version": 3
   },
   "file_extension": ".py",
   "mimetype": "text/x-python",
   "name": "python",
   "nbconvert_exporter": "python",
   "pygments_lexer": "ipython3",
   "version": "3.11.5"
  }
 },
 "nbformat": 4,
 "nbformat_minor": 5
}
